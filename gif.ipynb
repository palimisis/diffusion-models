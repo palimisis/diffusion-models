{
 "cells": [
  {
   "cell_type": "code",
   "execution_count": 16,
   "metadata": {},
   "outputs": [],
   "source": [
    "import os\n",
    "import re\n",
    "from PIL import Image\n",
    "\n",
    "img_dir_path = \"./results/cl_cn_cifar10/\"\n",
    "\n",
    "images = []\n",
    "for filename in sorted(\n",
    "    os.listdir(img_dir_path), key=lambda f: int(re.sub(r\"\\D+\", \"\", f))\n",
    "):\n",
    "    images.append(Image.open(os.path.join(img_dir_path, filename)))\n",
    "\n",
    "images[0].save(\n",
    "    \"./gifs/cifar10_conditional.gif\",\n",
    "    format=\"GIF\",\n",
    "    append_images=images[1:],\n",
    "    save_all=True,\n",
    "    disposal=2,\n",
    "    duration=1000,\n",
    "    loop=0,\n",
    "    transparency=0,\n",
    ")"
   ]
  }
 ],
 "metadata": {
  "kernelspec": {
   "display_name": "diffusion",
   "language": "python",
   "name": "python3"
  },
  "language_info": {
   "codemirror_mode": {
    "name": "ipython",
    "version": 3
   },
   "file_extension": ".py",
   "mimetype": "text/x-python",
   "name": "python",
   "nbconvert_exporter": "python",
   "pygments_lexer": "ipython3",
   "version": "3.11.5"
  },
  "orig_nbformat": 4
 },
 "nbformat": 4,
 "nbformat_minor": 2
}
